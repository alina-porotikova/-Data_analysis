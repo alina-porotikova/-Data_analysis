{
 "cells": [
  {
   "cell_type": "markdown",
   "id": "fbe5c239",
   "metadata": {
    "toc": true
   },
   "source": [
    "<h1>Table of Contents<span class=\"tocSkip\"></span></h1>\n",
    "<div class=\"toc\"><ul class=\"toc-item\"><li><span><a href=\"#Описание-и-задачи-проекта\" data-toc-modified-id=\"Описание-и-задачи-проекта-1\"><span class=\"toc-item-num\">1&nbsp;&nbsp;</span>Описание и задачи проекта</a></span></li><li><span><a href=\"#Описание-данных\" data-toc-modified-id=\"Описание-данных-2\"><span class=\"toc-item-num\">2&nbsp;&nbsp;</span>Описание данных</a></span></li><li><span><a href=\"#План-работы\" data-toc-modified-id=\"План-работы-3\"><span class=\"toc-item-num\">3&nbsp;&nbsp;</span>План работы</a></span></li><li><span><a href=\"#Часть-0.-Изучение-и-предобработка-данных\" data-toc-modified-id=\"Часть-0.-Изучение-и-предобработка-данных-4\"><span class=\"toc-item-num\">4&nbsp;&nbsp;</span>Часть 0. Изучение и предобработка данных</a></span><ul class=\"toc-item\"><li><span><a href=\"#Гипотезы-по-увеличению-выручки\" data-toc-modified-id=\"Гипотезы-по-увеличению-выручки-4.1\"><span class=\"toc-item-num\">4.1&nbsp;&nbsp;</span>Гипотезы по увеличению выручки</a></span></li><li><span><a href=\"#Покупки\" data-toc-modified-id=\"Покупки-4.2\"><span class=\"toc-item-num\">4.2&nbsp;&nbsp;</span>Покупки</a></span></li><li><span><a href=\"#Журнал-сессий\" data-toc-modified-id=\"Журнал-сессий-4.3\"><span class=\"toc-item-num\">4.3&nbsp;&nbsp;</span>Журнал сессий</a></span></li></ul></li><li><span><a href=\"#Часть-1.-Приоритизация-гипотез\" data-toc-modified-id=\"Часть-1.-Приоритизация-гипотез-5\"><span class=\"toc-item-num\">5&nbsp;&nbsp;</span>Часть 1. Приоритизация гипотез</a></span><ul class=\"toc-item\"><li><span><a href=\"#фреймворк-ICE-для-приоритизации-гипотез\" data-toc-modified-id=\"фреймворк-ICE-для-приоритизации-гипотез-5.1\"><span class=\"toc-item-num\">5.1&nbsp;&nbsp;</span>фреймворк ICE для приоритизации гипотез</a></span></li><li><span><a href=\"#фреймворк-RICE-для-приоритизации-гипотез\" data-toc-modified-id=\"фреймворк-RICE-для-приоритизации-гипотез-5.2\"><span class=\"toc-item-num\">5.2&nbsp;&nbsp;</span>фреймворк RICE для приоритизации гипотез</a></span></li></ul></li><li><span><a href=\"#Часть-2.-Анализ-A/B-теста\" data-toc-modified-id=\"Часть-2.-Анализ-A/B-теста-6\"><span class=\"toc-item-num\">6&nbsp;&nbsp;</span>Часть 2. Анализ A/B-теста</a></span><ul class=\"toc-item\"><li><span><a href=\"#график-кумулятивной-выручки-по-группам\" data-toc-modified-id=\"график-кумулятивной-выручки-по-группам-6.1\"><span class=\"toc-item-num\">6.1&nbsp;&nbsp;</span>график кумулятивной выручки по группам</a></span></li><li><span><a href=\"#график-кумулятивного-среднего-чека-по-группам\" data-toc-modified-id=\"график-кумулятивного-среднего-чека-по-группам-6.2\"><span class=\"toc-item-num\">6.2&nbsp;&nbsp;</span>график кумулятивного среднего чека по группам</a></span></li><li><span><a href=\"#график-относительного-изменения-кумулятивного-среднего-чека-группы-B-к-группе-A\" data-toc-modified-id=\"график-относительного-изменения-кумулятивного-среднего-чека-группы-B-к-группе-A-6.3\"><span class=\"toc-item-num\">6.3&nbsp;&nbsp;</span>график относительного изменения кумулятивного среднего чека группы B к группе A</a></span></li><li><span><a href=\"#график-кумулятивного-среднего-количества-заказов-на-посетителя-по-группам\" data-toc-modified-id=\"график-кумулятивного-среднего-количества-заказов-на-посетителя-по-группам-6.4\"><span class=\"toc-item-num\">6.4&nbsp;&nbsp;</span>график кумулятивного среднего количества заказов на посетителя по группам</a></span></li><li><span><a href=\"#график-относительного-изменения-кумулятивного-среднего-количества-заказов-на-посетителя-группы-B-к-группе-A\" data-toc-modified-id=\"график-относительного-изменения-кумулятивного-среднего-количества-заказов-на-посетителя-группы-B-к-группе-A-6.5\"><span class=\"toc-item-num\">6.5&nbsp;&nbsp;</span>график относительного изменения кумулятивного среднего количества заказов на посетителя группы B к группе A</a></span></li><li><span><a href=\"#точечный-график-количества-заказов-по-пользователям\" data-toc-modified-id=\"точечный-график-количества-заказов-по-пользователям-6.6\"><span class=\"toc-item-num\">6.6&nbsp;&nbsp;</span>точечный график количества заказов по пользователям</a></span></li><li><span><a href=\"#95-й-и-99-й-перцентили-количества-заказов-на-пользователя\" data-toc-modified-id=\"95-й-и-99-й-перцентили-количества-заказов-на-пользователя-6.7\"><span class=\"toc-item-num\">6.7&nbsp;&nbsp;</span>95-й и 99-й перцентили количества заказов на пользователя</a></span></li><li><span><a href=\"#точечный-график-стоимостей-заказов\" data-toc-modified-id=\"точечный-график-стоимостей-заказов-6.8\"><span class=\"toc-item-num\">6.8&nbsp;&nbsp;</span>точечный график стоимостей заказов</a></span></li><li><span><a href=\"#95-й-и-99-й-перцентили-стоимости-заказов\" data-toc-modified-id=\"95-й-и-99-й-перцентили-стоимости-заказов-6.9\"><span class=\"toc-item-num\">6.9&nbsp;&nbsp;</span>95-й и 99-й перцентили стоимости заказов</a></span></li><li><span><a href=\"#статистическая-значимость-различий-в-среднем-количестве-заказов-на-посетителя-между-группами-по-«сырым»-данным\" data-toc-modified-id=\"статистическая-значимость-различий-в-среднем-количестве-заказов-на-посетителя-между-группами-по-«сырым»-данным-6.10\"><span class=\"toc-item-num\">6.10&nbsp;&nbsp;</span>статистическая значимость различий в среднем количестве заказов на посетителя между группами по «сырым» данным</a></span></li><li><span><a href=\"#статистическая-значимость-различий-в-среднем-чеке-заказа-между-группами-по-«сырым»-данным\" data-toc-modified-id=\"статистическая-значимость-различий-в-среднем-чеке-заказа-между-группами-по-«сырым»-данным-6.11\"><span class=\"toc-item-num\">6.11&nbsp;&nbsp;</span>статистическая значимость различий в среднем чеке заказа между группами по «сырым» данным</a></span></li><li><span><a href=\"#статистическая-значимость-различий-в-среднем-количестве-заказов-на-посетителя-между-группами-по-«очищенным»-данным\" data-toc-modified-id=\"статистическая-значимость-различий-в-среднем-количестве-заказов-на-посетителя-между-группами-по-«очищенным»-данным-6.12\"><span class=\"toc-item-num\">6.12&nbsp;&nbsp;</span>статистическая значимость различий в среднем количестве заказов на посетителя между группами по «очищенным» данным</a></span></li><li><span><a href=\"#статистическая-значимость-различий-в-среднем-чеке-заказа-между-группами-по-«очищенным»-данным\" data-toc-modified-id=\"статистическая-значимость-различий-в-среднем-чеке-заказа-между-группами-по-«очищенным»-данным-6.13\"><span class=\"toc-item-num\">6.13&nbsp;&nbsp;</span>статистическая значимость различий в среднем чеке заказа между группами по «очищенным» данным</a></span></li></ul></li><li><span><a href=\"#Часть-3.-Общий-вывод\" data-toc-modified-id=\"Часть-3.-Общий-вывод-7\"><span class=\"toc-item-num\">7&nbsp;&nbsp;</span>Часть 3. Общий вывод</a></span></li></ul></div>"
   ]
  },
  {
   "cell_type": "markdown",
   "id": "11f7b4da",
   "metadata": {},
   "source": [
    "# Принятие решений в бизнесе"
   ]
  },
  {
   "cell_type": "markdown",
   "id": "47fe819a",
   "metadata": {},
   "source": [
    "## Описание и задачи проекта \n",
    "Отдел маркетинга крупного интернет-магазина подготовил список гипотез для увеличения выручки. Нужно приоритизировать гипотезы, запустить A/B-тест и проанализировать результаты.\n",
    "\n",
    "Проект состоит из двух частей:\n",
    "- **Часть 1. Приоритизация гипотез**\n",
    "- **Часть 2. Анализ A/B-теста**"
   ]
  },
  {
   "cell_type": "markdown",
   "id": "6fe07801",
   "metadata": {},
   "source": [
    "## Описание данных\n",
    "\n",
    "**Часть 1. Приоритизация гипотез.** \\\n",
    "В файле hypothesis.csv 9 гипотез по увеличению выручки интернет-магазина с указанными параметрами `Reach`, `Impact`, `Confidence`, `Effort`.\n",
    "\n",
    "Файл hypothesis.csv: \\\n",
    "`Hypothesis` — краткое описание гипотезы; \\\n",
    "`Reach` — охват пользователей по 10-балльной шкале; \\\n",
    "`Impact` — влияние на пользователей по 10-балльной шкале; \\\n",
    "`Confidence` — уверенность в гипотезе по 10-балльной шкале; \\\n",
    "`Efforts` — затраты ресурсов на проверку гипотезы по 10-балльной шкале. Чем больше значение Efforts, тем дороже проверка гипотезы.\n",
    "\n",
    "**Часть 2. Анализ A/B-теста.** \\\n",
    "Был проведен A/B-тест и получены результаты, которые описаны в файлах /datasets/orders.csv и /datasets/visitors.csv.\n",
    "\n",
    "Файл orders.csv: \\\n",
    "`transactionId` — идентификатор заказа; \\\n",
    "`visitorId` — идентификатор пользователя, совершившего заказ; \\\n",
    "`date` — дата, когда был совершён заказ; \\\n",
    "`revenue` — выручка заказа; \\\n",
    "`group` — группа A/B-теста, в которую попал заказ.\n",
    "\n",
    "Файл visitors.csv: \\\n",
    "`date` — дата; \\\n",
    "`group` — группа A/B-теста; \\\n",
    "`visitors` — количество пользователей в указанную дату в указанной группе A/B-теста."
   ]
  },
  {
   "cell_type": "markdown",
   "id": "1725989e",
   "metadata": {},
   "source": [
    "## План работы\n",
    "\n",
    "**Часть 0. Изучение и предобработка данных** \\\n",
    "Открыть файлы с данными и изучить общую информацию. Выполнить предобработку данных\n",
    "\n",
    "**Часть 1. Приоритизация гипотез**\n",
    "- Применить фреймворк ICE для приоритизации гипотез. Отсортировать их по убыванию приоритета.\n",
    "- Применить фреймворк RICE для приоритизации гипотез. Отсортировать их по убыванию приоритета.\n",
    "- Указать, как изменилась приоритизация гипотез при применении RICE вместо ICE. Объяснить, почему так произошло.\n",
    "\n",
    "**Часть 2. Анализ A/B-теста**\n",
    "\n",
    "Проанализировать A/B-тест: \n",
    "- Построить график кумулятивной выручки по группам. Сделать выводы и предположения.\n",
    "- Построить график кумулятивного среднего чека по группам. Сделать выводы и предположения.\n",
    "- Построить график относительного изменения кумулятивного среднего чека группы B к группе A. Сделать выводы и предположения.\n",
    "- Построить график кумулятивного среднего количества заказов на посетителя по группам. Сделать выводы и предположения.\n",
    "- Построить график относительного изменения кумулятивного среднего количества заказов на посетителя группы B к группе A. Сделать выводы и предположения.\n",
    "- Построить точечный график количества заказов по пользователям. Сделать выводы и предположения.\n",
    "- Посчитать 95-й и 99-й перцентили количества заказов на пользователя. Выбрать границу для определения аномальных пользователей.\n",
    "- Построить точечный график стоимостей заказов. Сделать выводы и предположения.\n",
    "- Посчитать 95-й и 99-й перцентили стоимости заказов. Выбрать границу для определения аномальных заказов.\n",
    "- Посчитать статистическую значимость различий в среднем количестве заказов на посетителя между группами по «сырым» данным. Сделать выводы и предположения.\n",
    "- Посчитать статистическую значимость различий в среднем чеке заказа между группами по «сырым» данным. Сделать выводы и предположения.\n",
    "- Посчитать статистическую значимость различий в среднем количестве заказов на посетителя между группами по «очищенным» данным. Сделать выводы и предположения.\n",
    "- Посчитать статистическую значимость различий в среднем чеке заказа между группами по «очищенным» данным. Сделать выводы и предположения.\n",
    "- Принять решение по результатам теста и объяснить его. Варианты решений:\n",
    "  1. Остановить тест, зафиксировать победу одной из групп.\n",
    "  2. Остановить тест, зафиксировать отсутствие различий между группами.\n",
    "  3. Продолжить тест.\n",
    "\n",
    "**Часть 3. Сделать общий вывод**"
   ]
  },
  {
   "cell_type": "markdown",
   "id": "67332781",
   "metadata": {},
   "source": [
    "## Часть 0. Изучение и предобработка данных"
   ]
  },
  {
   "cell_type": "code",
   "execution_count": 1,
   "id": "abc661fb",
   "metadata": {},
   "outputs": [],
   "source": [
    "#импортируем необходимые библиотеки\n",
    "import pandas as pd\n",
    "import matplotlib.pyplot as plt\n",
    "import numpy as np\n",
    "import scipy.stats as stats\n",
    "from datetime import datetime, timedelta\n",
    "import warnings"
   ]
  },
  {
   "cell_type": "code",
   "execution_count": 2,
   "id": "8f45dc13",
   "metadata": {},
   "outputs": [],
   "source": [
    "#сделаем красивый формат для дробных чисел\n",
    "pd.set_option('display.float_format', '{:.2f}'.format)\n",
    "\n",
    "#скроем возможные предупреждения\n",
    "warnings.filterwarnings('ignore')\n",
    "\n",
    "#настроим ширину отображения столбцов таблиц\n",
    "pd.set_option('max_colwidth', 120)\n",
    "pd.set_option('display.width', 500)"
   ]
  },
  {
   "cell_type": "code",
   "execution_count": 3,
   "id": "4a370780",
   "metadata": {},
   "outputs": [
    {
     "data": {
      "text/html": [
       "<div>\n",
       "<style scoped>\n",
       "    .dataframe tbody tr th:only-of-type {\n",
       "        vertical-align: middle;\n",
       "    }\n",
       "\n",
       "    .dataframe tbody tr th {\n",
       "        vertical-align: top;\n",
       "    }\n",
       "\n",
       "    .dataframe thead th {\n",
       "        text-align: right;\n",
       "    }\n",
       "</style>\n",
       "<table border=\"1\" class=\"dataframe\">\n",
       "  <thead>\n",
       "    <tr style=\"text-align: right;\">\n",
       "      <th></th>\n",
       "      <th>Hypothesis</th>\n",
       "      <th>Reach</th>\n",
       "      <th>Impact</th>\n",
       "      <th>Confidence</th>\n",
       "      <th>Efforts</th>\n",
       "    </tr>\n",
       "  </thead>\n",
       "  <tbody>\n",
       "    <tr>\n",
       "      <th>0</th>\n",
       "      <td>Добавить два новых канала привлечения трафика, что позволит привлекать на 30% больше пользователей</td>\n",
       "      <td>3</td>\n",
       "      <td>10</td>\n",
       "      <td>8</td>\n",
       "      <td>6</td>\n",
       "    </tr>\n",
       "    <tr>\n",
       "      <th>1</th>\n",
       "      <td>Запустить собственную службу доставки, что сократит срок доставки заказов</td>\n",
       "      <td>2</td>\n",
       "      <td>5</td>\n",
       "      <td>4</td>\n",
       "      <td>10</td>\n",
       "    </tr>\n",
       "    <tr>\n",
       "      <th>2</th>\n",
       "      <td>Добавить блоки рекомендаций товаров на сайт интернет магазина, чтобы повысить конверсию и средний чек заказа</td>\n",
       "      <td>8</td>\n",
       "      <td>3</td>\n",
       "      <td>7</td>\n",
       "      <td>3</td>\n",
       "    </tr>\n",
       "    <tr>\n",
       "      <th>3</th>\n",
       "      <td>Изменить структура категорий, что увеличит конверсию, т.к. пользователи быстрее найдут нужный товар</td>\n",
       "      <td>8</td>\n",
       "      <td>3</td>\n",
       "      <td>3</td>\n",
       "      <td>8</td>\n",
       "    </tr>\n",
       "    <tr>\n",
       "      <th>4</th>\n",
       "      <td>Изменить цвет фона главной страницы, чтобы увеличить вовлеченность пользователей</td>\n",
       "      <td>3</td>\n",
       "      <td>1</td>\n",
       "      <td>1</td>\n",
       "      <td>1</td>\n",
       "    </tr>\n",
       "  </tbody>\n",
       "</table>\n",
       "</div>"
      ],
      "text/plain": [
       "                                                                                                     Hypothesis  Reach  Impact  Confidence  Efforts\n",
       "0            Добавить два новых канала привлечения трафика, что позволит привлекать на 30% больше пользователей      3      10           8        6\n",
       "1                                     Запустить собственную службу доставки, что сократит срок доставки заказов      2       5           4       10\n",
       "2  Добавить блоки рекомендаций товаров на сайт интернет магазина, чтобы повысить конверсию и средний чек заказа      8       3           7        3\n",
       "3           Изменить структура категорий, что увеличит конверсию, т.к. пользователи быстрее найдут нужный товар      8       3           3        8\n",
       "4                              Изменить цвет фона главной страницы, чтобы увеличить вовлеченность пользователей      3       1           1        1"
      ]
     },
     "metadata": {},
     "output_type": "display_data"
    },
    {
     "data": {
      "text/html": [
       "<div>\n",
       "<style scoped>\n",
       "    .dataframe tbody tr th:only-of-type {\n",
       "        vertical-align: middle;\n",
       "    }\n",
       "\n",
       "    .dataframe tbody tr th {\n",
       "        vertical-align: top;\n",
       "    }\n",
       "\n",
       "    .dataframe thead th {\n",
       "        text-align: right;\n",
       "    }\n",
       "</style>\n",
       "<table border=\"1\" class=\"dataframe\">\n",
       "  <thead>\n",
       "    <tr style=\"text-align: right;\">\n",
       "      <th></th>\n",
       "      <th>transactionId</th>\n",
       "      <th>visitorId</th>\n",
       "      <th>date</th>\n",
       "      <th>revenue</th>\n",
       "      <th>group</th>\n",
       "    </tr>\n",
       "  </thead>\n",
       "  <tbody>\n",
       "    <tr>\n",
       "      <th>0</th>\n",
       "      <td>3667963787</td>\n",
       "      <td>3312258926</td>\n",
       "      <td>2019-08-15</td>\n",
       "      <td>1650</td>\n",
       "      <td>B</td>\n",
       "    </tr>\n",
       "    <tr>\n",
       "      <th>1</th>\n",
       "      <td>2804400009</td>\n",
       "      <td>3642806036</td>\n",
       "      <td>2019-08-15</td>\n",
       "      <td>730</td>\n",
       "      <td>B</td>\n",
       "    </tr>\n",
       "    <tr>\n",
       "      <th>2</th>\n",
       "      <td>2961555356</td>\n",
       "      <td>4069496402</td>\n",
       "      <td>2019-08-15</td>\n",
       "      <td>400</td>\n",
       "      <td>A</td>\n",
       "    </tr>\n",
       "    <tr>\n",
       "      <th>3</th>\n",
       "      <td>3797467345</td>\n",
       "      <td>1196621759</td>\n",
       "      <td>2019-08-15</td>\n",
       "      <td>9759</td>\n",
       "      <td>B</td>\n",
       "    </tr>\n",
       "    <tr>\n",
       "      <th>4</th>\n",
       "      <td>2282983706</td>\n",
       "      <td>2322279887</td>\n",
       "      <td>2019-08-15</td>\n",
       "      <td>2308</td>\n",
       "      <td>B</td>\n",
       "    </tr>\n",
       "  </tbody>\n",
       "</table>\n",
       "</div>"
      ],
      "text/plain": [
       "   transactionId   visitorId        date  revenue group\n",
       "0     3667963787  3312258926  2019-08-15     1650     B\n",
       "1     2804400009  3642806036  2019-08-15      730     B\n",
       "2     2961555356  4069496402  2019-08-15      400     A\n",
       "3     3797467345  1196621759  2019-08-15     9759     B\n",
       "4     2282983706  2322279887  2019-08-15     2308     B"
      ]
     },
     "metadata": {},
     "output_type": "display_data"
    },
    {
     "data": {
      "text/html": [
       "<div>\n",
       "<style scoped>\n",
       "    .dataframe tbody tr th:only-of-type {\n",
       "        vertical-align: middle;\n",
       "    }\n",
       "\n",
       "    .dataframe tbody tr th {\n",
       "        vertical-align: top;\n",
       "    }\n",
       "\n",
       "    .dataframe thead th {\n",
       "        text-align: right;\n",
       "    }\n",
       "</style>\n",
       "<table border=\"1\" class=\"dataframe\">\n",
       "  <thead>\n",
       "    <tr style=\"text-align: right;\">\n",
       "      <th></th>\n",
       "      <th>date</th>\n",
       "      <th>group</th>\n",
       "      <th>visitors</th>\n",
       "    </tr>\n",
       "  </thead>\n",
       "  <tbody>\n",
       "    <tr>\n",
       "      <th>0</th>\n",
       "      <td>2019-08-01</td>\n",
       "      <td>A</td>\n",
       "      <td>719</td>\n",
       "    </tr>\n",
       "    <tr>\n",
       "      <th>1</th>\n",
       "      <td>2019-08-02</td>\n",
       "      <td>A</td>\n",
       "      <td>619</td>\n",
       "    </tr>\n",
       "    <tr>\n",
       "      <th>2</th>\n",
       "      <td>2019-08-03</td>\n",
       "      <td>A</td>\n",
       "      <td>507</td>\n",
       "    </tr>\n",
       "    <tr>\n",
       "      <th>3</th>\n",
       "      <td>2019-08-04</td>\n",
       "      <td>A</td>\n",
       "      <td>717</td>\n",
       "    </tr>\n",
       "    <tr>\n",
       "      <th>4</th>\n",
       "      <td>2019-08-05</td>\n",
       "      <td>A</td>\n",
       "      <td>756</td>\n",
       "    </tr>\n",
       "  </tbody>\n",
       "</table>\n",
       "</div>"
      ],
      "text/plain": [
       "         date group  visitors\n",
       "0  2019-08-01     A       719\n",
       "1  2019-08-02     A       619\n",
       "2  2019-08-03     A       507\n",
       "3  2019-08-04     A       717\n",
       "4  2019-08-05     A       756"
      ]
     },
     "execution_count": 3,
     "metadata": {},
     "output_type": "execute_result"
    }
   ],
   "source": [
    "#прочитаем файлы с данными\n",
    "hypothesis = pd.read_csv('hypothesis.csv') # гипотезы по увеличению выручки\n",
    "orders = pd.read_csv('orders.csv') # покупки\n",
    "visitors = pd.read_csv('visitors.csv')  # посещения\n",
    "\n",
    "display(hypothesis.head(5))\n",
    "display(orders.head(5))\n",
    "visitors.head(5)"
   ]
  },
  {
   "cell_type": "code",
   "execution_count": 4,
   "id": "5ffa99ab",
   "metadata": {},
   "outputs": [],
   "source": [
    "# напишем функцию, чтобы изучить данные\n",
    "def first_look(data):\n",
    "    \n",
    "    #изучим общую информацию о данных\n",
    "    display(data.info())\n",
    "    \n",
    "    #посмотрим долю и количество пропусков\n",
    "    display(pd.DataFrame({'sum_of_null': data.isna().sum(),\n",
    "              'share_of_null': data.isna().mean()*100}))\n",
    "    \n",
    "    #проверим нет ли явных дубликатов\n",
    "    print('Число дубликатов:', data.duplicated().sum())"
   ]
  },
  {
   "cell_type": "markdown",
   "id": "2f4d671c",
   "metadata": {},
   "source": [
    "### Гипотезы по увеличению выручки"
   ]
  },
  {
   "cell_type": "code",
   "execution_count": 5,
   "id": "f16169cc",
   "metadata": {},
   "outputs": [
    {
     "name": "stdout",
     "output_type": "stream",
     "text": [
      "<class 'pandas.core.frame.DataFrame'>\n",
      "RangeIndex: 9 entries, 0 to 8\n",
      "Data columns (total 5 columns):\n",
      " #   Column      Non-Null Count  Dtype \n",
      "---  ------      --------------  ----- \n",
      " 0   Hypothesis  9 non-null      object\n",
      " 1   Reach       9 non-null      int64 \n",
      " 2   Impact      9 non-null      int64 \n",
      " 3   Confidence  9 non-null      int64 \n",
      " 4   Efforts     9 non-null      int64 \n",
      "dtypes: int64(4), object(1)\n",
      "memory usage: 488.0+ bytes\n"
     ]
    },
    {
     "data": {
      "text/plain": [
       "None"
      ]
     },
     "metadata": {},
     "output_type": "display_data"
    },
    {
     "data": {
      "text/html": [
       "<div>\n",
       "<style scoped>\n",
       "    .dataframe tbody tr th:only-of-type {\n",
       "        vertical-align: middle;\n",
       "    }\n",
       "\n",
       "    .dataframe tbody tr th {\n",
       "        vertical-align: top;\n",
       "    }\n",
       "\n",
       "    .dataframe thead th {\n",
       "        text-align: right;\n",
       "    }\n",
       "</style>\n",
       "<table border=\"1\" class=\"dataframe\">\n",
       "  <thead>\n",
       "    <tr style=\"text-align: right;\">\n",
       "      <th></th>\n",
       "      <th>sum_of_null</th>\n",
       "      <th>share_of_null</th>\n",
       "    </tr>\n",
       "  </thead>\n",
       "  <tbody>\n",
       "    <tr>\n",
       "      <th>Hypothesis</th>\n",
       "      <td>0</td>\n",
       "      <td>0.00</td>\n",
       "    </tr>\n",
       "    <tr>\n",
       "      <th>Reach</th>\n",
       "      <td>0</td>\n",
       "      <td>0.00</td>\n",
       "    </tr>\n",
       "    <tr>\n",
       "      <th>Impact</th>\n",
       "      <td>0</td>\n",
       "      <td>0.00</td>\n",
       "    </tr>\n",
       "    <tr>\n",
       "      <th>Confidence</th>\n",
       "      <td>0</td>\n",
       "      <td>0.00</td>\n",
       "    </tr>\n",
       "    <tr>\n",
       "      <th>Efforts</th>\n",
       "      <td>0</td>\n",
       "      <td>0.00</td>\n",
       "    </tr>\n",
       "  </tbody>\n",
       "</table>\n",
       "</div>"
      ],
      "text/plain": [
       "            sum_of_null  share_of_null\n",
       "Hypothesis            0           0.00\n",
       "Reach                 0           0.00\n",
       "Impact                0           0.00\n",
       "Confidence            0           0.00\n",
       "Efforts               0           0.00"
      ]
     },
     "metadata": {},
     "output_type": "display_data"
    },
    {
     "name": "stdout",
     "output_type": "stream",
     "text": [
      "Число дубликатов: 0\n"
     ]
    }
   ],
   "source": [
    "first_look(hypothesis)"
   ]
  },
  {
   "cell_type": "markdown",
   "id": "9effd7eb",
   "metadata": {},
   "source": [
    "**Вывод:** пропусков и дубликатов в первом файле нет. Тип данных тоже везде указан верно. Нужно лишь поменять названия столбцов."
   ]
  },
  {
   "cell_type": "code",
   "execution_count": 6,
   "id": "74790f12",
   "metadata": {},
   "outputs": [],
   "source": [
    "# переименование столбцов\n",
    "hypothesis.columns=['hypothesis', 'reach', 'impact', 'confidence', 'efforts']"
   ]
  },
  {
   "cell_type": "markdown",
   "id": "040ae840",
   "metadata": {},
   "source": [
    "### Покупки"
   ]
  },
  {
   "cell_type": "code",
   "execution_count": 7,
   "id": "38188ba4",
   "metadata": {},
   "outputs": [
    {
     "name": "stdout",
     "output_type": "stream",
     "text": [
      "<class 'pandas.core.frame.DataFrame'>\n",
      "RangeIndex: 1197 entries, 0 to 1196\n",
      "Data columns (total 5 columns):\n",
      " #   Column         Non-Null Count  Dtype \n",
      "---  ------         --------------  ----- \n",
      " 0   transactionId  1197 non-null   int64 \n",
      " 1   visitorId      1197 non-null   int64 \n",
      " 2   date           1197 non-null   object\n",
      " 3   revenue        1197 non-null   int64 \n",
      " 4   group          1197 non-null   object\n",
      "dtypes: int64(3), object(2)\n",
      "memory usage: 46.9+ KB\n"
     ]
    },
    {
     "data": {
      "text/plain": [
       "None"
      ]
     },
     "metadata": {},
     "output_type": "display_data"
    },
    {
     "data": {
      "text/html": [
       "<div>\n",
       "<style scoped>\n",
       "    .dataframe tbody tr th:only-of-type {\n",
       "        vertical-align: middle;\n",
       "    }\n",
       "\n",
       "    .dataframe tbody tr th {\n",
       "        vertical-align: top;\n",
       "    }\n",
       "\n",
       "    .dataframe thead th {\n",
       "        text-align: right;\n",
       "    }\n",
       "</style>\n",
       "<table border=\"1\" class=\"dataframe\">\n",
       "  <thead>\n",
       "    <tr style=\"text-align: right;\">\n",
       "      <th></th>\n",
       "      <th>sum_of_null</th>\n",
       "      <th>share_of_null</th>\n",
       "    </tr>\n",
       "  </thead>\n",
       "  <tbody>\n",
       "    <tr>\n",
       "      <th>transactionId</th>\n",
       "      <td>0</td>\n",
       "      <td>0.00</td>\n",
       "    </tr>\n",
       "    <tr>\n",
       "      <th>visitorId</th>\n",
       "      <td>0</td>\n",
       "      <td>0.00</td>\n",
       "    </tr>\n",
       "    <tr>\n",
       "      <th>date</th>\n",
       "      <td>0</td>\n",
       "      <td>0.00</td>\n",
       "    </tr>\n",
       "    <tr>\n",
       "      <th>revenue</th>\n",
       "      <td>0</td>\n",
       "      <td>0.00</td>\n",
       "    </tr>\n",
       "    <tr>\n",
       "      <th>group</th>\n",
       "      <td>0</td>\n",
       "      <td>0.00</td>\n",
       "    </tr>\n",
       "  </tbody>\n",
       "</table>\n",
       "</div>"
      ],
      "text/plain": [
       "               sum_of_null  share_of_null\n",
       "transactionId            0           0.00\n",
       "visitorId                0           0.00\n",
       "date                     0           0.00\n",
       "revenue                  0           0.00\n",
       "group                    0           0.00"
      ]
     },
     "metadata": {},
     "output_type": "display_data"
    },
    {
     "name": "stdout",
     "output_type": "stream",
     "text": [
      "Число дубликатов: 0\n"
     ]
    }
   ],
   "source": [
    "first_look(orders)"
   ]
  },
  {
   "cell_type": "markdown",
   "id": "f1818af1",
   "metadata": {},
   "source": [
    "**Вывод:** пропусков и дубликатов в покупках нет. Нужно изменить тип данных в столбце \"date\" на `datetime`, а также поменять названия столбцов."
   ]
  },
  {
   "cell_type": "code",
   "execution_count": 8,
   "id": "c8e01aee",
   "metadata": {},
   "outputs": [],
   "source": [
    "# переименование столбцов\n",
    "orders.columns=['transaction_id', 'visitor_id', 'date', 'revenue', 'group']\n",
    "\n",
    "# преобразование данных о времени\n",
    "orders['date'] = pd.to_datetime(orders['date'])"
   ]
  },
  {
   "cell_type": "markdown",
   "id": "6db9f236",
   "metadata": {},
   "source": [
    "### Журнал сессий"
   ]
  },
  {
   "cell_type": "code",
   "execution_count": 9,
   "id": "74a852eb",
   "metadata": {},
   "outputs": [
    {
     "name": "stdout",
     "output_type": "stream",
     "text": [
      "<class 'pandas.core.frame.DataFrame'>\n",
      "RangeIndex: 62 entries, 0 to 61\n",
      "Data columns (total 3 columns):\n",
      " #   Column    Non-Null Count  Dtype \n",
      "---  ------    --------------  ----- \n",
      " 0   date      62 non-null     object\n",
      " 1   group     62 non-null     object\n",
      " 2   visitors  62 non-null     int64 \n",
      "dtypes: int64(1), object(2)\n",
      "memory usage: 1.6+ KB\n"
     ]
    },
    {
     "data": {
      "text/plain": [
       "None"
      ]
     },
     "metadata": {},
     "output_type": "display_data"
    },
    {
     "data": {
      "text/html": [
       "<div>\n",
       "<style scoped>\n",
       "    .dataframe tbody tr th:only-of-type {\n",
       "        vertical-align: middle;\n",
       "    }\n",
       "\n",
       "    .dataframe tbody tr th {\n",
       "        vertical-align: top;\n",
       "    }\n",
       "\n",
       "    .dataframe thead th {\n",
       "        text-align: right;\n",
       "    }\n",
       "</style>\n",
       "<table border=\"1\" class=\"dataframe\">\n",
       "  <thead>\n",
       "    <tr style=\"text-align: right;\">\n",
       "      <th></th>\n",
       "      <th>sum_of_null</th>\n",
       "      <th>share_of_null</th>\n",
       "    </tr>\n",
       "  </thead>\n",
       "  <tbody>\n",
       "    <tr>\n",
       "      <th>date</th>\n",
       "      <td>0</td>\n",
       "      <td>0.00</td>\n",
       "    </tr>\n",
       "    <tr>\n",
       "      <th>group</th>\n",
       "      <td>0</td>\n",
       "      <td>0.00</td>\n",
       "    </tr>\n",
       "    <tr>\n",
       "      <th>visitors</th>\n",
       "      <td>0</td>\n",
       "      <td>0.00</td>\n",
       "    </tr>\n",
       "  </tbody>\n",
       "</table>\n",
       "</div>"
      ],
      "text/plain": [
       "          sum_of_null  share_of_null\n",
       "date                0           0.00\n",
       "group               0           0.00\n",
       "visitors            0           0.00"
      ]
     },
     "metadata": {},
     "output_type": "display_data"
    },
    {
     "name": "stdout",
     "output_type": "stream",
     "text": [
      "Число дубликатов: 0\n"
     ]
    }
   ],
   "source": [
    "first_look(visitors)"
   ]
  },
  {
   "cell_type": "markdown",
   "id": "694b9d05",
   "metadata": {},
   "source": [
    "**Вывод:** пропусков и дубликатов здесь тоже нет. Нужно изменить тип данных в столбце \"date\" на `datetime`."
   ]
  },
  {
   "cell_type": "code",
   "execution_count": 10,
   "id": "ce513f6f",
   "metadata": {},
   "outputs": [],
   "source": [
    "# преобразование данных о времени\n",
    "visitors['date'] = pd.to_datetime(visitors['date'])"
   ]
  },
  {
   "cell_type": "markdown",
   "id": "f2ec59f9",
   "metadata": {},
   "source": [
    "> **Вывод:** предобработка данных выполнена. Изменены названия столбцов и типы данных. Данные готовы для дальнейшего анализа."
   ]
  },
  {
   "cell_type": "markdown",
   "id": "a0bb9203",
   "metadata": {},
   "source": [
    "## Часть 1. Приоритизация гипотез"
   ]
  },
  {
   "cell_type": "markdown",
   "id": "608aa4ae",
   "metadata": {},
   "source": [
    "### фреймворк ICE для приоритизации гипотез"
   ]
  },
  {
   "cell_type": "markdown",
   "id": "c740c0fb",
   "metadata": {},
   "source": [
    "![ICE](https://pictures.s3.yandex.net/resources/ice_score_2-27da3b9e-15cd-4f96-91a4-fefffd1d986e_1569198107.jpg)"
   ]
  },
  {
   "cell_type": "code",
   "execution_count": 11,
   "id": "f7385573",
   "metadata": {},
   "outputs": [
    {
     "data": {
      "text/html": [
       "<div>\n",
       "<style scoped>\n",
       "    .dataframe tbody tr th:only-of-type {\n",
       "        vertical-align: middle;\n",
       "    }\n",
       "\n",
       "    .dataframe tbody tr th {\n",
       "        vertical-align: top;\n",
       "    }\n",
       "\n",
       "    .dataframe thead th {\n",
       "        text-align: right;\n",
       "    }\n",
       "</style>\n",
       "<table border=\"1\" class=\"dataframe\">\n",
       "  <thead>\n",
       "    <tr style=\"text-align: right;\">\n",
       "      <th></th>\n",
       "      <th>hypothesis</th>\n",
       "      <th>ICE</th>\n",
       "    </tr>\n",
       "  </thead>\n",
       "  <tbody>\n",
       "    <tr>\n",
       "      <th>8</th>\n",
       "      <td>Запустить акцию, дающую скидку на товар в день рождения</td>\n",
       "      <td>16.20</td>\n",
       "    </tr>\n",
       "    <tr>\n",
       "      <th>0</th>\n",
       "      <td>Добавить два новых канала привлечения трафика, что позволит привлекать на 30% больше пользователей</td>\n",
       "      <td>13.33</td>\n",
       "    </tr>\n",
       "    <tr>\n",
       "      <th>7</th>\n",
       "      <td>Добавить форму подписки на все основные страницы, чтобы собрать базу клиентов для email-рассылок</td>\n",
       "      <td>11.20</td>\n",
       "    </tr>\n",
       "    <tr>\n",
       "      <th>6</th>\n",
       "      <td>Показать на главной странице баннеры с актуальными акциями и распродажами, чтобы увеличить конверсию</td>\n",
       "      <td>8.00</td>\n",
       "    </tr>\n",
       "    <tr>\n",
       "      <th>2</th>\n",
       "      <td>Добавить блоки рекомендаций товаров на сайт интернет магазина, чтобы повысить конверсию и средний чек заказа</td>\n",
       "      <td>7.00</td>\n",
       "    </tr>\n",
       "    <tr>\n",
       "      <th>1</th>\n",
       "      <td>Запустить собственную службу доставки, что сократит срок доставки заказов</td>\n",
       "      <td>2.00</td>\n",
       "    </tr>\n",
       "    <tr>\n",
       "      <th>5</th>\n",
       "      <td>Добавить страницу отзывов клиентов о магазине, что позволит увеличить количество заказов</td>\n",
       "      <td>1.33</td>\n",
       "    </tr>\n",
       "    <tr>\n",
       "      <th>3</th>\n",
       "      <td>Изменить структура категорий, что увеличит конверсию, т.к. пользователи быстрее найдут нужный товар</td>\n",
       "      <td>1.12</td>\n",
       "    </tr>\n",
       "    <tr>\n",
       "      <th>4</th>\n",
       "      <td>Изменить цвет фона главной страницы, чтобы увеличить вовлеченность пользователей</td>\n",
       "      <td>1.00</td>\n",
       "    </tr>\n",
       "  </tbody>\n",
       "</table>\n",
       "</div>"
      ],
      "text/plain": [
       "                                                                                                     hypothesis   ICE\n",
       "8                                                       Запустить акцию, дающую скидку на товар в день рождения 16.20\n",
       "0            Добавить два новых канала привлечения трафика, что позволит привлекать на 30% больше пользователей 13.33\n",
       "7              Добавить форму подписки на все основные страницы, чтобы собрать базу клиентов для email-рассылок 11.20\n",
       "6          Показать на главной странице баннеры с актуальными акциями и распродажами, чтобы увеличить конверсию  8.00\n",
       "2  Добавить блоки рекомендаций товаров на сайт интернет магазина, чтобы повысить конверсию и средний чек заказа  7.00\n",
       "1                                     Запустить собственную службу доставки, что сократит срок доставки заказов  2.00\n",
       "5                      Добавить страницу отзывов клиентов о магазине, что позволит увеличить количество заказов  1.33\n",
       "3           Изменить структура категорий, что увеличит конверсию, т.к. пользователи быстрее найдут нужный товар  1.12\n",
       "4                              Изменить цвет фона главной страницы, чтобы увеличить вовлеченность пользователей  1.00"
      ]
     },
     "execution_count": 11,
     "metadata": {},
     "output_type": "execute_result"
    }
   ],
   "source": [
    "hypothesis['ICE'] = ((hypothesis['impact'] * hypothesis['confidence']) / hypothesis['efforts'])\n",
    "hypothesis[['hypothesis','ICE']].sort_values(by='ICE', ascending=False)"
   ]
  },
  {
   "cell_type": "markdown",
   "id": "c6f0aee6",
   "metadata": {},
   "source": [
    "**Вывод:** Самой перспективной по ICE оказалась гипотеза с индексом 8, далее идут гипотезы с индексами 0, 7 и 6."
   ]
  },
  {
   "cell_type": "markdown",
   "id": "3b35de9d",
   "metadata": {},
   "source": [
    "### фреймворк RICE для приоритизации гипотез"
   ]
  },
  {
   "cell_type": "markdown",
   "id": "fe3fcce2",
   "metadata": {},
   "source": [
    "![ICE](https://pictures.s3.yandex.net/resources/rice_score_1634305501.png)"
   ]
  },
  {
   "cell_type": "code",
   "execution_count": 12,
   "id": "83522693",
   "metadata": {},
   "outputs": [
    {
     "data": {
      "text/html": [
       "<div>\n",
       "<style scoped>\n",
       "    .dataframe tbody tr th:only-of-type {\n",
       "        vertical-align: middle;\n",
       "    }\n",
       "\n",
       "    .dataframe tbody tr th {\n",
       "        vertical-align: top;\n",
       "    }\n",
       "\n",
       "    .dataframe thead th {\n",
       "        text-align: right;\n",
       "    }\n",
       "</style>\n",
       "<table border=\"1\" class=\"dataframe\">\n",
       "  <thead>\n",
       "    <tr style=\"text-align: right;\">\n",
       "      <th></th>\n",
       "      <th>hypothesis</th>\n",
       "      <th>RICE</th>\n",
       "    </tr>\n",
       "  </thead>\n",
       "  <tbody>\n",
       "    <tr>\n",
       "      <th>7</th>\n",
       "      <td>Добавить форму подписки на все основные страницы, чтобы собрать базу клиентов для email-рассылок</td>\n",
       "      <td>112.00</td>\n",
       "    </tr>\n",
       "    <tr>\n",
       "      <th>2</th>\n",
       "      <td>Добавить блоки рекомендаций товаров на сайт интернет магазина, чтобы повысить конверсию и средний чек заказа</td>\n",
       "      <td>56.00</td>\n",
       "    </tr>\n",
       "    <tr>\n",
       "      <th>0</th>\n",
       "      <td>Добавить два новых канала привлечения трафика, что позволит привлекать на 30% больше пользователей</td>\n",
       "      <td>40.00</td>\n",
       "    </tr>\n",
       "    <tr>\n",
       "      <th>6</th>\n",
       "      <td>Показать на главной странице баннеры с актуальными акциями и распродажами, чтобы увеличить конверсию</td>\n",
       "      <td>40.00</td>\n",
       "    </tr>\n",
       "    <tr>\n",
       "      <th>8</th>\n",
       "      <td>Запустить акцию, дающую скидку на товар в день рождения</td>\n",
       "      <td>16.20</td>\n",
       "    </tr>\n",
       "    <tr>\n",
       "      <th>3</th>\n",
       "      <td>Изменить структура категорий, что увеличит конверсию, т.к. пользователи быстрее найдут нужный товар</td>\n",
       "      <td>9.00</td>\n",
       "    </tr>\n",
       "    <tr>\n",
       "      <th>1</th>\n",
       "      <td>Запустить собственную службу доставки, что сократит срок доставки заказов</td>\n",
       "      <td>4.00</td>\n",
       "    </tr>\n",
       "    <tr>\n",
       "      <th>5</th>\n",
       "      <td>Добавить страницу отзывов клиентов о магазине, что позволит увеличить количество заказов</td>\n",
       "      <td>4.00</td>\n",
       "    </tr>\n",
       "    <tr>\n",
       "      <th>4</th>\n",
       "      <td>Изменить цвет фона главной страницы, чтобы увеличить вовлеченность пользователей</td>\n",
       "      <td>3.00</td>\n",
       "    </tr>\n",
       "  </tbody>\n",
       "</table>\n",
       "</div>"
      ],
      "text/plain": [
       "                                                                                                     hypothesis   RICE\n",
       "7              Добавить форму подписки на все основные страницы, чтобы собрать базу клиентов для email-рассылок 112.00\n",
       "2  Добавить блоки рекомендаций товаров на сайт интернет магазина, чтобы повысить конверсию и средний чек заказа  56.00\n",
       "0            Добавить два новых канала привлечения трафика, что позволит привлекать на 30% больше пользователей  40.00\n",
       "6          Показать на главной странице баннеры с актуальными акциями и распродажами, чтобы увеличить конверсию  40.00\n",
       "8                                                       Запустить акцию, дающую скидку на товар в день рождения  16.20\n",
       "3           Изменить структура категорий, что увеличит конверсию, т.к. пользователи быстрее найдут нужный товар   9.00\n",
       "1                                     Запустить собственную службу доставки, что сократит срок доставки заказов   4.00\n",
       "5                      Добавить страницу отзывов клиентов о магазине, что позволит увеличить количество заказов   4.00\n",
       "4                              Изменить цвет фона главной страницы, чтобы увеличить вовлеченность пользователей   3.00"
      ]
     },
     "execution_count": 12,
     "metadata": {},
     "output_type": "execute_result"
    }
   ],
   "source": [
    "hypothesis['RICE'] = ((hypothesis['impact'] * hypothesis['confidence'] * hypothesis['reach']) / hypothesis['efforts'])\n",
    "hypothesis[['hypothesis', 'RICE']].sort_values(by='RICE', ascending=False)"
   ]
  },
  {
   "cell_type": "markdown",
   "id": "a72ae4fa",
   "metadata": {},
   "source": [
    "**Вывод:** Самой перспективной по RICE оказалась гипотеза с индексом 7, далее идут гипотезы с индексами 2, 0 и 6."
   ]
  },
  {
   "cell_type": "markdown",
   "id": "a4d6d703",
   "metadata": {},
   "source": [
    "> **Вывод:** RICE в отличие от ICE включает параметр \"Reach\" (этот фактор предназначен для оценки того, на какое количество людей каждая фича или проект повлияет в течение определенного периода времени, и сколько пользователей увидят такие изменения). Именно этот параметр оказал влияние на перестановку приоритетности гипотез во втором случае. Так как параметр \"Reach\" - важная составляющая анализа, то для проведения A/B-теста возьмем гипотезы, набравшие наибольшее количество баллов по фреймворку RICE:\n",
    "> - Добавить форму подписки на все основные страницы, чтобы собрать базу клиентов для email-рассылок\n",
    "> - Добавить блоки рекомендаций товаров на сайт интернет магазина, чтобы повысить конверсию и средний чек заказа\n",
    "> - Добавить два новых канала привлечения трафика, что позволит привлекать на 30% больше пользователей\n",
    "> - Показать на главной странице баннеры с актуальными акциями и распродажами, чтобы увеличить конверсию"
   ]
  },
  {
   "cell_type": "markdown",
   "id": "9176daa3",
   "metadata": {},
   "source": [
    "## Часть 2. Анализ A/B-теста"
   ]
  },
  {
   "cell_type": "markdown",
   "id": "88addcde",
   "metadata": {},
   "source": [
    "Чтобы исправить проблему подглядывания, определим корректный размер выборки до начала теста. \\\n",
    "Самый простой способ найти размер выборки — рассчитать в онлайн-калькуляторе. Для этого будем использовать калькулятор http://www.evanmiller.org/ab-testing/sample-size.html"
   ]
  },
  {
   "cell_type": "code",
   "execution_count": 13,
   "id": "cedfc2e8",
   "metadata": {},
   "outputs": [
    {
     "name": "stdout",
     "output_type": "stream",
     "text": [
      "Кол-во посетителей в группе А: 18736 \n",
      "Кол-во посетителей в группе В: 18916 \n",
      "Размер выборки: 37652 \n",
      "Конверсия в группе А: 0.030 \n",
      "Конверсия в группе В: 0.034 \n",
      "Относительное изменение конверсии: 0.138\n"
     ]
    }
   ],
   "source": [
    "# посчитаем количество поситителей в группах А и В\n",
    "visitors_A = visitors[visitors['group']=='A']['visitors'].sum()\n",
    "visitors_B = visitors[visitors['group']=='B']['visitors'].sum()\n",
    "\n",
    "# посчитаем количество покупок в группах А и В\n",
    "purchases_A = len(orders[orders['group']=='A'])\n",
    "purchases_B = len(orders[orders['group']=='B'])\n",
    "\n",
    "# посчитаем конверсии в группах А и В\n",
    "conversion_A = purchases_A / visitors_A\n",
    "conversion_B = purchases_B / visitors_B\n",
    "\n",
    "# посчитаем относительное изменение конверсии\n",
    "relative_conversion = (conversion_B-conversion_A)/conversion_A\n",
    "\n",
    "print(\n",
    "'Кол-во посетителей в группе А:', visitors_A, '\\n' \n",
    "'Кол-во посетителей в группе В:', visitors_B, '\\n' \n",
    "'Размер выборки:', visitors_A + visitors_B, '\\n'\n",
    "'Конверсия в группе А:', '{:.3f}'.format(conversion_A), '\\n' \n",
    "'Конверсия в группе В:', '{:.3f}'.format(conversion_B), '\\n' \n",
    "'Относительное изменение конверсии:', '{:.3f}'.format(relative_conversion)\n",
    ")"
   ]
  },
  {
   "cell_type": "markdown",
   "id": "ed63ce87",
   "metadata": {},
   "source": [
    "![sample](https://downloader.disk.yandex.ru/preview/967ade43631273bcb1d3cb35d3c4cdb370c42330bcea6ad9be7b33c52e881600/640df4de/dBjAwKw2JuNiQ8EnzsOTs-DwhWVVzWOO1Fd2GeeynMeicgytlM6g9-CUCWHOZCfcQ1H-asiQ0Wj2RDsaJpwenw%3D%3D?uid=0&filename=sample.png&disposition=inline&hash=&limit=0&content_type=image%2Fpng&owner_uid=0&tknv=v2&size=2048x2048)"
   ]
  },
  {
   "cell_type": "markdown",
   "id": "d262a60d",
   "metadata": {},
   "source": [
    "**Вывод:** Получаем необходимое количество выборки 30593 для корректного проведения тестирования. У нас есть 37652 посещения. Значит количество выборки для проведения A/B тестирования подобрано корректно."
   ]
  },
  {
   "cell_type": "markdown",
   "id": "3eb5ceb2",
   "metadata": {},
   "source": [
    "Теперь убедимся, что минимальная и максимальная даты в данных соответствуют тех заданию"
   ]
  },
  {
   "cell_type": "code",
   "execution_count": 14,
   "id": "8b8bac83",
   "metadata": {
    "scrolled": true
   },
   "outputs": [
    {
     "name": "stdout",
     "output_type": "stream",
     "text": [
      "Минимальная дата в таблице посещений: 2019-08-01 00:00:00 \n",
      "Минимальная дата в таблице заказов: 2019-08-01 00:00:00 \n",
      "Максимальная дата в таблице посещений: 2019-08-31 00:00:00 \n",
      "Максимальная дата в таблице заказов: 2019-08-31 00:00:00 \n",
      "\n"
     ]
    }
   ],
   "source": [
    "print(\n",
    "'Минимальная дата в таблице посещений:', visitors.date.min(), '\\n' \n",
    "'Минимальная дата в таблице заказов:', orders.date.min(), '\\n' \n",
    "'Максимальная дата в таблице посещений:', visitors.date.max(), '\\n'\n",
    "'Максимальная дата в таблице заказов:', orders.date.max(), '\\n' )"
   ]
  },
  {
   "cell_type": "markdown",
   "id": "abbdd169",
   "metadata": {},
   "source": [
    "**Вывод:** Минимальная и максимальная даты в двух таблицах совпадает: 1 августа 2019 года и 31 августа 2019 года соответственно."
   ]
  },
  {
   "cell_type": "code",
   "execution_count": 15,
   "id": "4ece9988",
   "metadata": {},
   "outputs": [
    {
     "data": {
      "text/html": [
       "<div>\n",
       "<style scoped>\n",
       "    .dataframe tbody tr th:only-of-type {\n",
       "        vertical-align: middle;\n",
       "    }\n",
       "\n",
       "    .dataframe tbody tr th {\n",
       "        vertical-align: top;\n",
       "    }\n",
       "\n",
       "    .dataframe thead th {\n",
       "        text-align: right;\n",
       "    }\n",
       "</style>\n",
       "<table border=\"1\" class=\"dataframe\">\n",
       "  <thead>\n",
       "    <tr style=\"text-align: right;\">\n",
       "      <th></th>\n",
       "      <th>transaction_id</th>\n",
       "    </tr>\n",
       "    <tr>\n",
       "      <th>group</th>\n",
       "      <th></th>\n",
       "    </tr>\n",
       "  </thead>\n",
       "  <tbody>\n",
       "    <tr>\n",
       "      <th>A</th>\n",
       "      <td>557</td>\n",
       "    </tr>\n",
       "    <tr>\n",
       "      <th>B</th>\n",
       "      <td>640</td>\n",
       "    </tr>\n",
       "  </tbody>\n",
       "</table>\n",
       "</div>"
      ],
      "text/plain": [
       "       transaction_id\n",
       "group                \n",
       "A                 557\n",
       "B                 640"
      ]
     },
     "metadata": {},
     "output_type": "display_data"
    },
    {
     "data": {
      "text/html": [
       "<div>\n",
       "<style scoped>\n",
       "    .dataframe tbody tr th:only-of-type {\n",
       "        vertical-align: middle;\n",
       "    }\n",
       "\n",
       "    .dataframe tbody tr th {\n",
       "        vertical-align: top;\n",
       "    }\n",
       "\n",
       "    .dataframe thead th {\n",
       "        text-align: right;\n",
       "    }\n",
       "</style>\n",
       "<table border=\"1\" class=\"dataframe\">\n",
       "  <thead>\n",
       "    <tr style=\"text-align: right;\">\n",
       "      <th></th>\n",
       "      <th>visitor_id</th>\n",
       "    </tr>\n",
       "    <tr>\n",
       "      <th>group</th>\n",
       "      <th></th>\n",
       "    </tr>\n",
       "  </thead>\n",
       "  <tbody>\n",
       "    <tr>\n",
       "      <th>A</th>\n",
       "      <td>503</td>\n",
       "    </tr>\n",
       "    <tr>\n",
       "      <th>B</th>\n",
       "      <td>586</td>\n",
       "    </tr>\n",
       "  </tbody>\n",
       "</table>\n",
       "</div>"
      ],
      "text/plain": [
       "       visitor_id\n",
       "group            \n",
       "A             503\n",
       "B             586"
      ]
     },
     "metadata": {},
     "output_type": "display_data"
    },
    {
     "name": "stdout",
     "output_type": "stream",
     "text": [
      "Количество уникальных пользователей, которые оказались одновременно в двух группах: 58\n"
     ]
    }
   ],
   "source": [
    "# общее количество заказов в двух группах\n",
    "display(orders.groupby('group').agg({'transaction_id':'count'}))\n",
    "\n",
    "# общее количество уникальных пользователей в двух группах\n",
    "display(orders.groupby('group').agg({'visitor_id' : 'nunique'}))\n",
    "\n",
    "print('Количество уникальных пользователей, которые оказались одновременно в двух группах:', \n",
    "orders.groupby('visitor_id').agg({'group':'nunique'}).query('group==2').shape[0])"
   ]
  },
  {
   "cell_type": "markdown",
   "id": "7bc12feb",
   "metadata": {},
   "source": [
    "**Вывод:** Общее количество заказов в группах не совпадает: в группе А 557 заказов, в группе В - 640. Также не совпадает количество уникальных пользователкй: в группе А - 503, а в группе В - 586. Кроме того, в группе А и группе В оказалось 58 пользователей одновременно. \n",
    "Если пользователь видит разные версии исследуемой страницы в ходе одного исследования, неизвестно, какая именно повлияла на его решения. Однако, удаление таких пользователей может сказаться не совсем корректно, ведь мы не можем выявить данных пользователей в данных visitors. Поэтому примем решение, оставить данных пользователей в обоих группах."
   ]
  },
  {
   "cell_type": "markdown",
   "id": "eeda2aa7",
   "metadata": {},
   "source": [
    "### график кумулятивной выручки по группам"
   ]
  },
  {
   "cell_type": "code",
   "execution_count": 16,
   "id": "f827602f",
   "metadata": {},
   "outputs": [
    {
     "name": "stdout",
     "output_type": "stream",
     "text": [
      "        date group  orders  buyers  revenue  visitors\n",
      "0 2019-08-01     A      24      20   148579       719\n",
      "1 2019-08-01     B      21      20   101217       713\n",
      "2 2019-08-02     A      44      38   242401      1338\n",
      "3 2019-08-02     B      45      43   266748      1294\n",
      "4 2019-08-03     A      68      62   354874      1845\n"
     ]
    }
   ],
   "source": [
    "# создаем массив уникальных пар значений дат и групп теста\n",
    "datesGroups = orders[['date','group']].drop_duplicates()\n",
    "\n",
    "# получаем агрегированные кумулятивные по дням данные о заказах \n",
    "ordersAggregated = datesGroups.apply(lambda x: orders[np.logical_and(orders['date'] <= x['date'], \n",
    "orders['group'] == x['group'])].agg({'date' : 'max', 'group' : 'max', 'transaction_id' : 'nunique', 'visitor_id' : 'nunique', \n",
    "'revenue' : 'sum'}), axis=1).sort_values(by=['date','group'])\n",
    "\n",
    "# получаем агрегированные кумулятивные по дням данные о посетителях интернет-магазина \n",
    "visitorsAggregated = datesGroups.apply(lambda x: visitors[np.logical_and(visitors['date'] <= x['date'], \n",
    "visitors['group'] == x['group'])].agg({'date' : 'max', 'group' : 'max', 'visitors' : 'sum'}), \n",
    "axis=1).sort_values(by=['date','group'])\n",
    "\n",
    "# объединяем кумулятивные данные в одной таблице и присваиваем ее столбцам понятные названия\n",
    "cumulativeData = ordersAggregated.merge(visitorsAggregated, left_on=['date', 'group'], right_on=['date', 'group'])\n",
    "cumulativeData.columns = ['date', 'group', 'orders', 'buyers', 'revenue', 'visitors']\n",
    "\n",
    "print(cumulativeData.head(5))"
   ]
  },
  {
   "cell_type": "code",
   "execution_count": 17,
   "id": "110e1f44",
   "metadata": {
    "scrolled": false
   },
   "outputs": [
    {
     "data": {
      "image/png": "[encoded data removed]",
      "text/plain": [
       "<Figure size 1500x500 with 1 Axes>"
      ]
     },
     "metadata": {},
     "output_type": "display_data"
    }
   ],
   "source": [
    "plt.figure(figsize=(15,5))\n",
    "\n",
    "# датафрейм с кумулятивным количеством заказов и кумулятивной выручкой по дням в группе А\n",
    "cumulativeRevenueA = cumulativeData[cumulativeData['group']=='A'][['date','revenue', 'orders']]\n",
    "\n",
    "# датафрейм с кумулятивным количеством заказов и кумулятивной выручкой по дням в группе B\n",
    "cumulativeRevenueB = cumulativeData[cumulativeData['group']=='B'][['date','revenue', 'orders']]\n",
    "\n",
    "# Строим график выручки группы А\n",
    "plt.plot(cumulativeRevenueA['date'], cumulativeRevenueA['revenue'], label='A')\n",
    "\n",
    "# Строим график выручки группы B\n",
    "plt.plot(cumulativeRevenueB['date'], cumulativeRevenueB['revenue'], label='B')\n",
    "\n",
    "plt.title('График кумулятивной выручки по группам')\n",
    "plt.xlabel('Дата')\n",
    "plt.legend();"
   ]
  },
  {
   "cell_type": "markdown",
   "id": "abf18e65",
   "metadata": {},
   "source": [
    "**Вывод:** Выручка почти равномерно увеличивается в течение всего теста у обоих групп. Однако, в начале теста группа В лидировала лишь с минимальным отрывом, а с 18 августа 2019 выручка группы В выросла значительнее. Это может быть связано с увеличением числа заказов в этой группе или с появлением очень дорогих заказов."
   ]
  },
  {
   "cell_type": "markdown",
   "id": "d08bcc96",
   "metadata": {},
   "source": [
    "### график кумулятивного среднего чека по группам"
   ]
  },
  {
   "cell_type": "code",
   "execution_count": 18,
   "id": "5a152681",
   "metadata": {},
   "outputs": [
    {
     "data": {
      "image/png": "[encoded data removed]",
      "text/plain": [
       "<Figure size 1500x500 with 1 Axes>"
      ]
     },
     "metadata": {},
     "output_type": "display_data"
    }
   ],
   "source": [
    "plt.figure(figsize=(15,5))\n",
    "\n",
    "# график кумулятивного среднего чека группы А\n",
    "plt.plot(cumulativeRevenueA['date'], cumulativeRevenueA['revenue']/cumulativeRevenueA['orders'], label='A')\n",
    "\n",
    "# график кумулятивного среднего чека группы В\n",
    "plt.plot(cumulativeRevenueB['date'], cumulativeRevenueB['revenue']/cumulativeRevenueB['orders'], label='B')\n",
    "\n",
    "plt.title('График кумулятивного среднего чека по группам')\n",
    "plt.xlabel('Дата')\n",
    "plt.legend();"
   ]
  },
  {
   "cell_type": "markdown",
   "id": "04051d05",
   "metadata": {},
   "source": [
    "**Вывод:** Кумулятивное значение среднего чека в целом возрастает для обоих групп. Однако, у группы А это происходит намного плавнее. 13 августа 2019 года было достигнуто максимальное значение, затем было небольшое снижение и показатели выровнялись к концу теста. У группы В видим резкий рост значений 18-19 августа 2019. Возможно это связано с крупными заказами."
   ]
  },
  {
   "cell_type": "markdown",
   "id": "a177fbda",
   "metadata": {},
   "source": [
    "### график относительного изменения кумулятивного среднего чека группы B к группе A"
   ]
  },
  {
   "cell_type": "code",
   "execution_count": 19,
   "id": "48cd1c5e",
   "metadata": {},
   "outputs": [
    {
     "data": {
      "image/png": "[encoded data removed]",
      "text/plain": [
       "<Figure size 1500x500 with 1 Axes>"
      ]
     },
     "metadata": {},
     "output_type": "display_data"
    }
   ],
   "source": [
    "plt.figure(figsize=(15,5))\n",
    "\n",
    "# собираем данные в одном датафрейме\n",
    "mergedCumulativeRevenue = cumulativeRevenueA.merge(cumulativeRevenueB, left_on='date', right_on='date', how='left', \n",
    "suffixes=['A', 'B'])\n",
    "\n",
    "# cтроим отношение средних чеков\n",
    "plt.plot(mergedCumulativeRevenue['date'], (mergedCumulativeRevenue['revenueB']/mergedCumulativeRevenue['ordersB'])/\n",
    "(mergedCumulativeRevenue['revenueA']/mergedCumulativeRevenue['ordersA'])-1)\n",
    "\n",
    "# добавляем ось X\n",
    "plt.axhline(y=0, color='black', linestyle='--')\n",
    "plt.title('График относительного изменения кумулятивного среднего чека группы B к группе A')\n",
    "plt.xlabel('Дата');"
   ]
  },
  {
   "cell_type": "markdown",
   "id": "74605022",
   "metadata": {},
   "source": [
    "**Вывод:** В нескольких точках график различия между сегментами резко «скачет». Скорее всего это связано с тем, что в данных есть крупные заказы и выбросы."
   ]
  },
  {
   "cell_type": "markdown",
   "id": "da14417d",
   "metadata": {},
   "source": [
    "### график кумулятивного среднего количества заказов на посетителя по группам"
   ]
  },
  {
   "cell_type": "code",
   "execution_count": 20,
   "id": "c02b62ed",
   "metadata": {
    "scrolled": false
   },
   "outputs": [
    {
     "data": {
      "image/png": "[encoded data removed]",
      "text/plain": [
       "<Figure size 1500x500 with 1 Axes>"
      ]
     },
     "metadata": {},
     "output_type": "display_data"
    }
   ],
   "source": [
    "plt.figure(figsize=(15,5))\n",
    "\n",
    "# считаем кумулятивную конверсию\n",
    "cumulativeData['conversion'] = cumulativeData['orders']/cumulativeData['visitors']\n",
    "\n",
    "# отделяем данные по группе A\n",
    "cumulativeDataA = cumulativeData[cumulativeData['group']=='A']\n",
    "\n",
    "# отделяем данные по группе B\n",
    "cumulativeDataB = cumulativeData[cumulativeData['group']=='B']\n",
    "\n",
    "# строим графики\n",
    "plt.plot(cumulativeDataA['date'], cumulativeDataA['conversion'], label='A')\n",
    "plt.plot(cumulativeDataB['date'], cumulativeDataB['conversion'], label='B')\n",
    "plt.legend()\n",
    "\n",
    "plt.title('График кумулятивного среднего количества заказов на посетителя по группам')\n",
    "plt.xlabel('Дата');"
   ]
  },
  {
   "cell_type": "markdown",
   "id": "0e7e4f5d",
   "metadata": {},
   "source": [
    "**Вывод:** В целом группа В показывает значения конверсии лучше чем группа А, лишь в начале группа А немного ее превосходила. У обоих групп значения конверсии находятся в диапозоне от 2,9% до 3,7% и стабилизируются во второй половине месяца."
   ]
  },
  {
   "cell_type": "markdown",
   "id": "aa629864",
   "metadata": {},
   "source": [
    "### график относительного изменения кумулятивного среднего количества заказов на посетителя группы B к группе A"
   ]
  },
  {
   "cell_type": "code",
   "execution_count": 21,
   "id": "9266b8b6",
   "metadata": {},
   "outputs": [
    {
     "data": {
      "image/png": "[encoded data removed]",
      "text/plain": [
       "<Figure size 1500x500 with 1 Axes>"
      ]
     },
     "metadata": {},
     "output_type": "display_data"
    }
   ],
   "source": [
    "plt.figure(figsize=(15,5))\n",
    "\n",
    "# собираем данные в одном датафрейме\n",
    "mergedCumulativeConversions = cumulativeDataA[['date','conversion']].merge(cumulativeDataB[['date','conversion']], \n",
    "left_on='date', right_on='date', how='left', suffixes=['A', 'B'])\n",
    "\n",
    "# cтроим отношение количества заказов\n",
    "plt.plot(mergedCumulativeConversions['date'], mergedCumulativeConversions['conversionB']/\n",
    "mergedCumulativeConversions['conversionA']-1, label=\"Относительный прирост конверсии группы B относительно группы A\")\n",
    "\n",
    "plt.legend()\n",
    "\n",
    "plt.axhline(y=0, color='black', linestyle='--')\n",
    "plt.axhline(y=-0.1, color='grey', linestyle='--')\n",
    "\n",
    "plt.title('График относительного изменения кумулятивного среднего количества заказов на посетителя группы B к группе A')\n",
    "plt.xlabel('Дата');"
   ]
  },
  {
   "cell_type": "markdown",
   "id": "097f88a3",
   "metadata": {},
   "source": [
    "**Вывод:** В начале теста группа В в основном проигрывала группе А, но с 6 августа 2019 года вырвалась вперед. К концу теста прирост конверсии группы В относительно группы А стал постепенно снижаться."
   ]
  },
  {
   "cell_type": "markdown",
   "id": "535539c2",
   "metadata": {},
   "source": [
    "### точечный график количества заказов по пользователям"
   ]
  },
  {
   "cell_type": "code",
   "execution_count": 22,
   "id": "ed97dd5b",
   "metadata": {},
   "outputs": [
    {
     "data": {
      "image/png": "[encoded data removed]",
      "text/plain": [
       "<Figure size 640x480 with 1 Axes>"
      ]
     },
     "metadata": {},
     "output_type": "display_data"
    }
   ],
   "source": [
    "# создадим таблицу с количеством заказов по пользователям\n",
    "orders_by_users = (orders.groupby('visitor_id').agg({'transaction_id': 'nunique'})).sort_values(by='transaction_id', \n",
    "ascending=False)\n",
    "\n",
    "# построим график\n",
    "x_values = pd.Series(range(0,len(orders_by_users['transaction_id'])))\n",
    "plt.scatter(x_values, orders_by_users['transaction_id'])\n",
    "\n",
    "plt.title('Точечный график количества заказов по пользователям')\n",
    "plt.ylabel('Количество заказов');"
   ]
  },
  {
   "cell_type": "markdown",
   "id": "53e9199f",
   "metadata": {},
   "source": [
    "**Вывод:** Большинство пользователей не совершает больше 2 заказов. Чтобы более точно оценить данный факт, посчитаем выборочные перцентили."
   ]
  },
  {
   "cell_type": "markdown",
   "id": "097b2aca",
   "metadata": {},
   "source": [
    "### 95-й и 99-й перцентили количества заказов на пользователя"
   ]
  },
  {
   "cell_type": "code",
   "execution_count": 23,
   "id": "5e2fe934",
   "metadata": {},
   "outputs": [
    {
     "name": "stdout",
     "output_type": "stream",
     "text": [
      "[2. 4.]\n"
     ]
    }
   ],
   "source": [
    "print(np.percentile(orders_by_users['transaction_id'], [95, 99]))"
   ]
  },
  {
   "cell_type": "markdown",
   "id": "25dacbca",
   "metadata": {},
   "source": [
    "**Вывод:** Как мы и предполагали 95% совершает не больше 2 заказов, 99% пользователей не больше 4 заказов. Выберем границу \"больше 2 заказов\" для определения аномальных пользователей."
   ]
  },
  {
   "cell_type": "markdown",
   "id": "4aa2e65f",
   "metadata": {},
   "source": [
    "### точечный график стоимостей заказов"
   ]
  },
  {
   "cell_type": "code",
   "execution_count": 24,
   "id": "d5bb4db9",
   "metadata": {},
   "outputs": [
    {
     "data": {
      "image/png": "[encoded data removed]",
      "text/plain": [
       "<Figure size 640x480 with 1 Axes>"
      ]
     },
     "metadata": {},
     "output_type": "display_data"
    }
   ],
   "source": [
    "# построим график\n",
    "x_values = pd.Series(range(0, len(orders['revenue'])))\n",
    "plt.scatter(x_values, orders['revenue']);\n",
    "\n",
    "plt.title('Точечный график стоимостей заказов')\n",
    "plt.ylabel('Стоимость заказа в млн ед.');"
   ]
  },
  {
   "cell_type": "markdown",
   "id": "333d17b7",
   "metadata": {},
   "source": [
    "**Вывод:** На графике видим всего лишь один аномальный заказ на сумму больше чем 1.200.000 у.е., также есть один заказ на сумму около 200.000 у.е. Остальные суммы не превышают 100.000 у.е. Чтобы более точно оценить данный факт, посчитаем выборочные перцентили."
   ]
  },
  {
   "cell_type": "markdown",
   "id": "5add7c18",
   "metadata": {},
   "source": [
    "### 95-й и 99-й перцентили стоимости заказов"
   ]
  },
  {
   "cell_type": "code",
   "execution_count": 25,
   "id": "3613d1bb",
   "metadata": {},
   "outputs": [
    {
     "name": "stdout",
     "output_type": "stream",
     "text": [
      "[28000.  58233.2]\n"
     ]
    }
   ],
   "source": [
    "print(np.percentile(orders['revenue'], [95, 99]))"
   ]
  },
  {
   "cell_type": "markdown",
   "id": "4b2a6ec4",
   "metadata": {},
   "source": [
    "**Вывод:** у 95% пользователей сумма заказа не превышает 28.000 у.е., у 99% сумма заказа не больше 58.233 у.е. Выберем границу \"больше 28.000 у.е.\" для определения аномальных значений."
   ]
  },
  {
   "cell_type": "markdown",
   "id": "32d592fe",
   "metadata": {},
   "source": [
    "### статистическая значимость различий в среднем количестве заказов на посетителя между группами по «сырым» данным"
   ]
  },
  {
   "cell_type": "markdown",
   "id": "1d3c8dbb",
   "metadata": {},
   "source": [
    "Посчитаем статистическую значимость различий в среднем числе заказов на пользователя и среднем чеке между группами по «сырым» данным — без удаления аномальных пользователей.\n",
    "Сформулируем гипотезы: \n",
    "- **Нулевая:** различий в среднем количестве заказов между группами нет \n",
    "- **Альтернативная:** различия в среднем между группами есть"
   ]
  },
  {
   "cell_type": "code",
   "execution_count": 26,
   "id": "e55c7e26",
   "metadata": {
    "scrolled": true
   },
   "outputs": [
    {
     "name": "stdout",
     "output_type": "stream",
     "text": [
      "0.017\n",
      "0.138\n"
     ]
    }
   ],
   "source": [
    "# подготовим данные\n",
    "visitorsADaily = visitors[visitors['group'] == 'A'][['date', 'visitors']]\n",
    "visitorsADaily.columns = ['date', 'visitorsPerDateA']\n",
    "\n",
    "visitorsACummulative = visitorsADaily.apply(lambda x: visitorsADaily[visitorsADaily['date'] <= x['date']].agg({'date': 'max', \n",
    "'visitorsPerDateA': 'sum'}), axis=1)\n",
    "visitorsACummulative.columns = ['date', 'visitorsCummulativeA']\n",
    "\n",
    "visitorsBDaily = visitors[visitors['group'] == 'B'][['date', 'visitors']]\n",
    "visitorsBDaily.columns = ['date', 'visitorsPerDateB']\n",
    "\n",
    "visitorsBCummulative = visitorsBDaily.apply(lambda x: visitorsBDaily[visitorsBDaily['date'] <= x['date']].agg({'date': 'max', \n",
    "'visitorsPerDateB': 'sum'}), axis=1)\n",
    "visitorsBCummulative.columns = ['date', 'visitorsCummulativeB']\n",
    "\n",
    "ordersADaily = (orders[orders['group'] == 'A'][['date', 'transaction_id', 'visitor_id', 'revenue']].groupby('date', \n",
    "as_index=False).agg({'transaction_id': pd.Series.nunique, 'revenue': 'sum'}))\n",
    "ordersADaily.columns = ['date', 'ordersPerDateA', 'revenuePerDateA']\n",
    "\n",
    "ordersACummulative = ordersADaily.apply(lambda x: ordersADaily[ordersADaily['date'] <= x['date']].agg({'date': 'max', \n",
    "'ordersPerDateA': 'sum', 'revenuePerDateA': 'sum'}), axis=1).sort_values(by=['date'])\n",
    "ordersACummulative.columns = ['date', 'ordersCummulativeA', 'revenueCummulativeA']\n",
    "\n",
    "ordersBDaily = (orders[orders['group'] == 'B'][['date', 'transaction_id', 'visitor_id', 'revenue']].groupby('date', \n",
    "as_index=False).agg({'transaction_id': pd.Series.nunique, 'revenue': 'sum'}))\n",
    "ordersBDaily.columns = ['date', 'ordersPerDateB', 'revenuePerDateB']\n",
    "\n",
    "ordersBCummulative = ordersBDaily.apply(lambda x: ordersBDaily[ordersBDaily['date'] <= x['date']].agg({'date': 'max', \n",
    "'ordersPerDateB': 'sum', 'revenuePerDateB': 'sum'}), axis=1).sort_values(by=['date'])\n",
    "\n",
    "ordersBCummulative.columns = ['date','ordersCummulativeB','revenueCummulativeB']\n",
    "\n",
    "data = (ordersADaily.merge(ordersBDaily, left_on='date', right_on='date', how='left')\n",
    "    .merge(ordersACummulative, left_on='date', right_on='date', how='left')\n",
    "    .merge(ordersBCummulative, left_on='date', right_on='date', how='left')\n",
    "    .merge(visitorsADaily, left_on='date', right_on='date', how='left')\n",
    "    .merge(visitorsBDaily, left_on='date', right_on='date', how='left')\n",
    "    .merge(visitorsACummulative, left_on='date', right_on='date', how='left')\n",
    "    .merge(visitorsBCummulative, left_on='date', right_on='date', how='left'))\n",
    "\n",
    "# для пользователей, которые заказывали хотя бы 1 раз, укажем число совершённых заказов\n",
    "ordersByUsersA=(orders[orders['group'] == 'A'].groupby('visitor_id', as_index=False).agg({'transaction_id': pd.Series.nunique}))\n",
    "ordersByUsersA.columns = ['visitor_id', 'orders']\n",
    "\n",
    "ordersByUsersB=(orders[orders['group'] == 'B'].groupby('visitor_id', as_index=False).agg({'transaction_id': pd.Series.nunique}))\n",
    "ordersByUsersB.columns = ['visitor_id', 'orders'] \n",
    "\n",
    "# объявим переменные sampleA и sampleB, в которых пользователям из разных групп будет соответствовать количество заказов\n",
    "sampleA = pd.concat([ordersByUsersA['orders'],pd.Series(0, index=np.arange(data['visitorsPerDateA'].sum() \n",
    "- len(ordersByUsersA['orders'])), name='orders')],axis=0)\n",
    "sampleB = pd.concat([ordersByUsersB['orders'],pd.Series(0, index=np.arange(data['visitorsPerDateB'].sum() \n",
    "- len(ordersByUsersB['orders'])), name='orders')],axis=0) \n",
    "\n",
    "print(\"{0:.3f}\".format(stats.mannwhitneyu(sampleA, sampleB)[1]))\n",
    "print(\"{0:.3f}\".format(sampleB.mean() / sampleA.mean() - 1))"
   ]
  },
  {
   "cell_type": "markdown",
   "id": "6218d2cf",
   "metadata": {},
   "source": [
    "**Вывод:** По «сырым» данным различия в среднем числе заказов групп A и B есть. Первое число — p-value = 0,017 меньше 0,05. Значит, нулевую гипотезу отвергаем. Второе число — это относительный прирост конверсии группы В к конверсии группы А и он равен 13,8%."
   ]
  },
  {
   "cell_type": "markdown",
   "id": "2212c471",
   "metadata": {},
   "source": [
    "### статистическая значимость различий в среднем чеке заказа между группами по «сырым» данным"
   ]
  },
  {
   "cell_type": "markdown",
   "id": "7a9f892d",
   "metadata": {},
   "source": [
    "Сформулируем гипотезы:\n",
    "- **Нулевая гипотеза:** различий в среднем чеке между группами нет\n",
    "- **Альтернативная гипотеза:** различия в среднем чеке между группами есть"
   ]
  },
  {
   "cell_type": "code",
   "execution_count": 27,
   "id": "ebd3eba2",
   "metadata": {},
   "outputs": [
    {
     "name": "stdout",
     "output_type": "stream",
     "text": [
      "0.729\n",
      "0.259\n"
     ]
    }
   ],
   "source": [
    "print('{0:.3f}'.format(stats.mannwhitneyu(orders[orders['group']=='A']['revenue'], orders[orders['group']=='B']['revenue'])[1]))\n",
    "print('{0:.3f}'.format(orders[orders['group']=='B']['revenue'].mean()/orders[orders['group']=='A']['revenue'].mean()-1)) "
   ]
  },
  {
   "cell_type": "markdown",
   "id": "755311e4",
   "metadata": {},
   "source": [
    "**Вывод:** P-value значительно больше 0.05. Значит, нет причин отвергать нулевую гипотезу и считать, что в среднем чеке есть различия. Средний чек группы B выше среднего чека группы A на 25,9%."
   ]
  },
  {
   "cell_type": "markdown",
   "id": "8cc0dd3f",
   "metadata": {},
   "source": [
    "### статистическая значимость различий в среднем количестве заказов на посетителя между группами по «очищенным» данным"
   ]
  },
  {
   "cell_type": "markdown",
   "id": "9c5e49d9",
   "metadata": {},
   "source": [
    "Примем за аномальных пользователей тех, кто совершил от 2 заказов или совершил заказ дороже 28.000 у.е."
   ]
  },
  {
   "cell_type": "code",
   "execution_count": 28,
   "id": "b47bcc60",
   "metadata": {},
   "outputs": [
    {
     "name": "stdout",
     "output_type": "stream",
     "text": [
      "74\n"
     ]
    }
   ],
   "source": [
    "# срезы пользователей\n",
    "usersWithManyOrders = pd.concat([\n",
    "        ordersByUsersA[ordersByUsersA['orders'] > np.percentile(orders_by_users['transaction_id'], [95])[0]]['visitor_id'],\n",
    "        ordersByUsersB[ordersByUsersB['orders'] > np.percentile(orders_by_users['transaction_id'], [95])[0]]['visitor_id']], \n",
    "        axis=0)\n",
    "\n",
    "usersWithExpensiveOrders = orders[orders['revenue'] > np.percentile(orders['revenue'], [95])[0]]['visitor_id']\n",
    "abnormalUsers = (pd.concat([usersWithManyOrders, usersWithExpensiveOrders], axis=0).drop_duplicates().sort_values())\n",
    "print(abnormalUsers.shape[0]) "
   ]
  },
  {
   "cell_type": "markdown",
   "id": "c26c7f9f",
   "metadata": {},
   "source": [
    "**Вывод:** В данных всего 74 аномальных пользователя. Посмотрим как они повлияли на результат."
   ]
  },
  {
   "cell_type": "code",
   "execution_count": 29,
   "id": "e41ab9ec",
   "metadata": {},
   "outputs": [
    {
     "name": "stdout",
     "output_type": "stream",
     "text": [
      "0.013\n",
      "0.173\n"
     ]
    }
   ],
   "source": [
    "# подготовим выборки количества заказов по пользователям по группам теста\n",
    "sampleAFiltered = pd.concat([ordersByUsersA[np.logical_not(ordersByUsersA['visitor_id'].isin(abnormalUsers))]['orders'],\n",
    "pd.Series(0, index=np.arange(data['visitorsPerDateA'].sum() - len(ordersByUsersA['orders'])), name='orders')], axis=0)\n",
    "\n",
    "sampleBFiltered = pd.concat([ordersByUsersB[np.logical_not(ordersByUsersB['visitor_id'].isin(abnormalUsers))]['orders'],\n",
    "pd.Series(0, index=np.arange(data['visitorsPerDateB'].sum() - len(ordersByUsersB['orders'])), name='orders')], axis=0) \n",
    "\n",
    "print('{0:.3f}'.format(stats.mannwhitneyu(sampleAFiltered, sampleBFiltered)[1]))\n",
    "print('{0:.3f}'.format(sampleBFiltered.mean()/sampleAFiltered.mean()-1)) "
   ]
  },
  {
   "cell_type": "markdown",
   "id": "45625813",
   "metadata": {},
   "source": [
    "**Вывод:** Результаты по среднему количеству заказов практически не изменились. Как и в случае с сырыми данными p-value меньше 0,05, значит, нулевую гипотезу отвергаем. Относительный прирост конверсии группы В к конверсии группы А стал равен 17,3%."
   ]
  },
  {
   "cell_type": "markdown",
   "id": "4bfacffc",
   "metadata": {},
   "source": [
    "### статистическая значимость различий в среднем чеке заказа между группами по «очищенным» данным"
   ]
  },
  {
   "cell_type": "code",
   "execution_count": 30,
   "id": "57400ce3",
   "metadata": {},
   "outputs": [
    {
     "name": "stdout",
     "output_type": "stream",
     "text": [
      "0.738\n",
      "-0.020\n"
     ]
    }
   ],
   "source": [
    "print('{0:.3f}'.format(stats.mannwhitneyu(orders[np.logical_and(orders['group'] == 'A', np.logical_not(orders['visitor_id']\n",
    ".isin(abnormalUsers)))]['revenue'], orders[np.logical_and(orders['group'] == 'B',np.logical_not(orders['visitor_id']\n",
    ".isin(abnormalUsers)))]['revenue'])[1]))\n",
    "\n",
    "print(\"{0:.3f}\".format(orders[np.logical_and(orders['group'] == 'B', np.logical_not(orders['visitor_id'].isin(abnormalUsers)))]\n",
    "['revenue'].mean() / orders[np.logical_and(orders['group'] == 'A', np.logical_not(orders['visitor_id'].isin(abnormalUsers)))]\n",
    "['revenue'].mean() - 1))"
   ]
  },
  {
   "cell_type": "markdown",
   "id": "bb9066d1",
   "metadata": {},
   "source": [
    "**Вывод:** p-value немного увеличился, но нулевую гипотезу мы также не можем отвергнуть. После очистки данных разница в среднем чеке между двумя группами практически сократилась. И средний чек группы А стал на 2% выше среднего чека группы В."
   ]
  },
  {
   "cell_type": "markdown",
   "id": "98eb6d71",
   "metadata": {},
   "source": [
    "> **Вывод:** Хотя общие выводы по результатам теста не изменились, мы увидели, как сильно аномалии могут влиять на результаты A/B-теста. Также мы увидели:\n",
    "> - Есть статистически значимое различие по среднему количеству заказов между группами по «сырым» и по данным после фильтрации аномалий\n",
    "> - Нет статистически значимого различия по среднему количеству заказов между группами ни по «сырым», ни по данным после фильтрации аномалий\n",
    "> - График различия среднего количества заказов между группами сообщает, что результаты группы А хуже группы В и нет значительной тенденции к улучшению\n",
    "> - График различия среднего чека говорит о том, что результаты группы А ухудшаются день ото дня и сейчас результаты группы В почти на 30% лучше\n",
    "\n",
    "Исходя из обнаруженных фактов, тест следует остановить и признать его успешным. Группа В оказалась лучше группы А."
   ]
  },
  {
   "cell_type": "markdown",
   "id": "360cd6fc",
   "metadata": {},
   "source": [
    "## Часть 3. Общий вывод"
   ]
  },
  {
   "cell_type": "markdown",
   "id": "142a2225",
   "metadata": {},
   "source": [
    "В ходе предобработки данных были изменены названия столбцов и типы данных.\n",
    "\n",
    "Первая часть проекта показала, что лучше использовать фреймворк RICE для приотиризации гипотез, ведь здесь, в отличие от фпеймворка ICE, есть параметр \"Reach\" (этот фактор предназначен для оценки того, на какое количество людей каждая фича или проект повлияет в течение определенного периода времени, и сколько пользователей увидят такие изменения). Для проведения A/B-теста были выбраны следующие гипотезы:\n",
    "- Добавить форму подписки на все основные страницы, чтобы собрать базу клиентов для email-рассылок\n",
    "- Добавить блоки рекомендаций товаров на сайт интернет магазина, чтобы повысить конверсию и средний чек заказа\n",
    "- Добавить два новых канала привлечения трафика, что позволит привлекать на 30% больше пользователей\n",
    "- Показать на главной странице баннеры с актуальными акциями и распродажами, чтобы увеличить конверсию\n",
    "\n",
    "Вторая часть проекта показала, что кумулятивные метрики по выручке, среднему чеку и количеству заказов на протяжении всего теста были лучше в группе В. Статистическая значимость различий в среднем чеке после очистки данных от аномальных значений оказалась минимальной. А вот показатель конверсии и до и после очистки данных от аномалий оказался больше в группе В, чем в группе А. Поэтому было принято решение остановить тест и зафиксировать победу группы В."
   ]
  }
 ],
 "metadata": {
  "ExecuteTimeLog": [
   {
    "duration": 1188,
    "start_time": "2023-03-11T20:13:17.808Z"
   },
   {
    "duration": 4,
    "start_time": "2023-03-11T20:13:18.998Z"
   },
   {
    "duration": 486,
    "start_time": "2023-03-11T20:13:19.003Z"
   },
   {
    "duration": 3,
    "start_time": "2023-03-11T20:13:19.491Z"
   },
   {
    "duration": 19,
    "start_time": "2023-03-11T20:13:19.495Z"
   },
   {
    "duration": 2,
    "start_time": "2023-03-11T20:13:19.516Z"
   },
   {
    "duration": 18,
    "start_time": "2023-03-11T20:13:19.520Z"
   },
   {
    "duration": 5,
    "start_time": "2023-03-11T20:13:19.554Z"
   },
   {
    "duration": 19,
    "start_time": "2023-03-11T20:13:19.561Z"
   },
   {
    "duration": 4,
    "start_time": "2023-03-11T20:13:19.582Z"
   },
   {
    "duration": 10,
    "start_time": "2023-03-11T20:13:19.587Z"
   },
   {
    "duration": 9,
    "start_time": "2023-03-11T20:13:19.599Z"
   },
   {
    "duration": 47,
    "start_time": "2023-03-11T20:13:19.610Z"
   },
   {
    "duration": 281,
    "start_time": "2023-03-11T20:13:19.658Z"
   },
   {
    "duration": 266,
    "start_time": "2023-03-11T20:13:19.940Z"
   },
   {
    "duration": 188,
    "start_time": "2023-03-11T20:13:20.208Z"
   },
   {
    "duration": 323,
    "start_time": "2023-03-11T20:13:20.398Z"
   },
   {
    "duration": 441,
    "start_time": "2023-03-11T20:13:20.723Z"
   },
   {
    "duration": 401,
    "start_time": "2023-03-11T20:13:21.166Z"
   },
   {
    "duration": 210,
    "start_time": "2023-03-11T20:13:21.569Z"
   },
   {
    "duration": 4,
    "start_time": "2023-03-11T20:13:21.781Z"
   },
   {
    "duration": 142,
    "start_time": "2023-03-11T20:13:21.786Z"
   },
   {
    "duration": 4,
    "start_time": "2023-03-11T20:13:21.930Z"
   },
   {
    "duration": 342,
    "start_time": "2023-03-11T20:13:21.935Z"
   },
   {
    "duration": 9,
    "start_time": "2023-03-11T20:13:22.279Z"
   },
   {
    "duration": 6,
    "start_time": "2023-03-11T20:13:22.289Z"
   },
   {
    "duration": 24,
    "start_time": "2023-03-11T20:13:22.297Z"
   },
   {
    "duration": 34,
    "start_time": "2023-03-11T20:13:22.324Z"
   },
   {
    "duration": 8,
    "start_time": "2023-03-11T20:20:54.044Z"
   },
   {
    "duration": 35,
    "start_time": "2023-03-11T20:25:19.971Z"
   },
   {
    "duration": 7,
    "start_time": "2023-03-11T20:29:11.134Z"
   },
   {
    "duration": 1149,
    "start_time": "2023-03-12T19:40:34.910Z"
   },
   {
    "duration": 4,
    "start_time": "2023-03-12T19:40:36.062Z"
   },
   {
    "duration": 305,
    "start_time": "2023-03-12T19:40:36.073Z"
   },
   {
    "duration": 4,
    "start_time": "2023-03-12T19:40:36.381Z"
   },
   {
    "duration": 28,
    "start_time": "2023-03-12T19:40:36.388Z"
   },
   {
    "duration": 3,
    "start_time": "2023-03-12T19:40:36.418Z"
   },
   {
    "duration": 51,
    "start_time": "2023-03-12T19:40:36.423Z"
   },
   {
    "duration": 5,
    "start_time": "2023-03-12T19:40:36.476Z"
   },
   {
    "duration": 27,
    "start_time": "2023-03-12T19:40:36.483Z"
   },
   {
    "duration": 4,
    "start_time": "2023-03-12T19:40:36.512Z"
   },
   {
    "duration": 15,
    "start_time": "2023-03-12T19:40:36.518Z"
   },
   {
    "duration": 44,
    "start_time": "2023-03-12T19:40:36.535Z"
   },
   {
    "duration": 14,
    "start_time": "2023-03-12T19:40:36.581Z"
   },
   {
    "duration": 14,
    "start_time": "2023-03-12T19:40:36.597Z"
   },
   {
    "duration": 11,
    "start_time": "2023-03-12T19:40:36.613Z"
   },
   {
    "duration": 23,
    "start_time": "2023-03-12T19:40:36.626Z"
   },
   {
    "duration": 316,
    "start_time": "2023-03-12T19:40:36.651Z"
   },
   {
    "duration": 320,
    "start_time": "2023-03-12T19:40:36.972Z"
   },
   {
    "duration": 227,
    "start_time": "2023-03-12T19:40:37.294Z"
   },
   {
    "duration": 307,
    "start_time": "2023-03-12T19:40:37.523Z"
   },
   {
    "duration": 249,
    "start_time": "2023-03-12T19:40:37.832Z"
   },
   {
    "duration": 353,
    "start_time": "2023-03-12T19:40:38.083Z"
   },
   {
    "duration": 154,
    "start_time": "2023-03-12T19:40:38.439Z"
   },
   {
    "duration": 4,
    "start_time": "2023-03-12T19:40:38.595Z"
   },
   {
    "duration": 163,
    "start_time": "2023-03-12T19:40:38.601Z"
   },
   {
    "duration": 8,
    "start_time": "2023-03-12T19:40:38.766Z"
   },
   {
    "duration": 397,
    "start_time": "2023-03-12T19:40:38.776Z"
   },
   {
    "duration": 14,
    "start_time": "2023-03-12T19:40:39.177Z"
   },
   {
    "duration": 13,
    "start_time": "2023-03-12T19:40:39.193Z"
   },
   {
    "duration": 35,
    "start_time": "2023-03-12T19:40:39.208Z"
   },
   {
    "duration": 41,
    "start_time": "2023-03-12T19:40:39.245Z"
   }
  ],
  "kernelspec": {
   "display_name": "Python 3 (ipykernel)",
   "language": "python",
   "name": "python3"
  },
  "language_info": {
   "codemirror_mode": {
    "name": "ipython",
    "version": 3
   },
   "file_extension": ".py",
   "mimetype": "text/x-python",
   "name": "python",
   "nbconvert_exporter": "python",
   "pygments_lexer": "ipython3",
   "version": "3.9.13"
  },
  "toc": {
   "base_numbering": 1,
   "nav_menu": {},
   "number_sections": true,
   "sideBar": true,
   "skip_h1_title": true,
   "title_cell": "Table of Contents",
   "title_sidebar": "Contents",
   "toc_cell": true,
   "toc_position": {},
   "toc_section_display": true,
   "toc_window_display": false
  }
 },
 "nbformat": 4,
 "nbformat_minor": 5
}
